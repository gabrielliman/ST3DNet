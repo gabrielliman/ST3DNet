{
 "cells": [
  {
   "cell_type": "markdown",
   "metadata": {},
   "source": [
    "### Imports"
   ]
  },
  {
   "cell_type": "code",
   "execution_count": 1,
   "metadata": {},
   "outputs": [
    {
     "name": "stderr",
     "output_type": "stream",
     "text": [
      "2024-04-01 22:11:26.644085: I tensorflow/tsl/cuda/cudart_stub.cc:28] Could not find cuda drivers on your machine, GPU will not be used.\n",
      "2024-04-01 22:11:29.478252: I tensorflow/tsl/cuda/cudart_stub.cc:28] Could not find cuda drivers on your machine, GPU will not be used.\n",
      "2024-04-01 22:11:29.481714: I tensorflow/core/platform/cpu_feature_guard.cc:182] This TensorFlow binary is optimized to use available CPU instructions in performance-critical operations.\n",
      "To enable the following instructions: AVX2 FMA, in other operations, rebuild TensorFlow with the appropriate compiler flags.\n",
      "2024-04-01 22:11:33.138731: W tensorflow/compiler/tf2tensorrt/utils/py_utils.cc:38] TF-TRT Warning: Could not find TensorRT\n"
     ]
    }
   ],
   "source": [
    "from ST3DNet import *\n",
    "import pickle\n",
    "from utils import *\n",
    "import os\n",
    "import math\n",
    "from keras.utils import plot_model\n",
    "from keras.optimizers import Adam\n",
    "from tensorflow.compat.v1 import ConfigProto\n",
    "from tensorflow.compat.v1 import InteractiveSession\n",
    "from keras.callbacks import EarlyStopping, ModelCheckpoint\n",
    "\n",
    "config = ConfigProto()\n",
    "config.gpu_options.allow_growth = True\n",
    "session = InteractiveSession(config=config)"
   ]
  },
  {
   "cell_type": "markdown",
   "metadata": {},
   "source": [
    "### Training Info"
   ]
  },
  {
   "cell_type": "code",
   "execution_count": 3,
   "metadata": {},
   "outputs": [],
   "source": [
    "nb_epoch = 1500  # number of epoch at training stage\n",
    "nb_epoch_cont = 20  # number of epoch at training (cont) stage\n",
    "batch_size = 32  # batch size\n",
    "T = 3  # number of time intervals in one day\n",
    "lr = 0.00002  # learning rate\n",
    "len_closeness = 6  # length of closeness dependent sequence\n",
    "len_period = 0  # length of period dependent sequence\n",
    "len_trend = 4  # length of trend dependent sequence\n",
    "nb_residual_unit = 4   # number of residual units\n",
    "nb_flow = 2  # there are two types of flows: new-flow and end-flow\n",
    "days_test = 10  # divide data into two subsets: Train & Test, of which the test set is the last 10 days\n",
    "len_test = T * days_test\n",
    "map_height, map_width = 24,16  # grid size\n",
    "nb_area = 81\n",
    "m_factor = math.sqrt(1. * map_height * map_width / nb_area)\n"
   ]
  },
  {
   "cell_type": "markdown",
   "metadata": {},
   "source": [
    "### Load Data"
   ]
  },
  {
   "cell_type": "code",
   "execution_count": 4,
   "metadata": {},
   "outputs": [],
   "source": [
    "filename = os.path.join(\"data\", 'crime_c%d_p%d_t%d_noext'%(len_closeness, len_period, len_trend))\n",
    "f = open(filename, 'rb')\n",
    "X_train = pickle.load(f)\n",
    "Y_train = pickle.load(f)\n",
    "X_test = pickle.load(f)\n",
    "Y_test = pickle.load(f)\n",
    "mmn = pickle.load(f)\n",
    "external_dim = pickle.load(f)\n",
    "timestamp_train = pickle.load(f)\n",
    "timestamp_test = pickle.load(f)\n",
    "\n",
    "\n",
    "Y_train = mmn.inverse_transform(Y_train)  # X is MaxMinNormalized, Y is real value\n",
    "Y_test = mmn.inverse_transform(Y_test)"
   ]
  },
  {
   "cell_type": "markdown",
   "metadata": {},
   "source": [
    "### Model Setup"
   ]
  },
  {
   "cell_type": "code",
   "execution_count": 7,
   "metadata": {},
   "outputs": [
    {
     "name": "stderr",
     "output_type": "stream",
     "text": [
      "2024-04-01 19:20:13.569814: I tensorflow/core/common_runtime/process_util.cc:146] Creating new thread pool with default inter op setting: 2. Tune using inter_op_parallelism_threads for best performance.\n"
     ]
    },
    {
     "name": "stdout",
     "output_type": "stream",
     "text": [
      "external_dim: None\n",
      "Model: \"model\"\n",
      "__________________________________________________________________________________________________\n",
      " Layer (type)                   Output Shape         Param #     Connected to                     \n",
      "==================================================================================================\n",
      " input_1 (InputLayer)           [(None, 2, 6, 16, 8  0           []                               \n",
      "                                )]                                                                \n",
      "                                                                                                  \n",
      " conv3d (Conv3D)                (None, 64, 6, 16, 8  6976        ['input_1[0][0]']                \n",
      "                                )                                                                 \n",
      "                                                                                                  \n",
      " activation (Activation)        (None, 64, 6, 16, 8  0           ['conv3d[0][0]']                 \n",
      "                                )                                                                 \n",
      "                                                                                                  \n",
      " conv3d_1 (Conv3D)              (None, 64, 2, 16, 8  110656      ['activation[0][0]']             \n",
      "                                )                                                                 \n",
      "                                                                                                  \n",
      " activation_1 (Activation)      (None, 64, 2, 16, 8  0           ['conv3d_1[0][0]']               \n",
      "                                )                                                                 \n",
      "                                                                                                  \n",
      " conv3d_2 (Conv3D)              (None, 64, 1, 16, 8  110656      ['activation_1[0][0]']           \n",
      "                                )                                                                 \n",
      "                                                                                                  \n",
      " reshape (Reshape)              (None, 64, 16, 8)    0           ['conv3d_2[0][0]']               \n",
      "                                                                                                  \n",
      " activation_2 (Activation)      (None, 64, 16, 8)    0           ['reshape[0][0]']                \n",
      "                                                                                                  \n",
      " conv2d (Conv2D)                (None, 64, 16, 8)    36928       ['activation_2[0][0]']           \n",
      "                                                                                                  \n",
      " activation_3 (Activation)      (None, 64, 16, 8)    0           ['conv2d[0][0]']                 \n",
      "                                                                                                  \n",
      " conv2d_1 (Conv2D)              (None, 64, 16, 8)    36928       ['activation_3[0][0]']           \n",
      "                                                                                                  \n",
      " add (Add)                      (None, 64, 16, 8)    0           ['reshape[0][0]',                \n",
      "                                                                  'conv2d_1[0][0]']               \n",
      "                                                                                                  \n",
      " activation_4 (Activation)      (None, 64, 16, 8)    0           ['add[0][0]']                    \n",
      "                                                                                                  \n",
      " conv2d_2 (Conv2D)              (None, 64, 16, 8)    36928       ['activation_4[0][0]']           \n",
      "                                                                                                  \n",
      " activation_5 (Activation)      (None, 64, 16, 8)    0           ['conv2d_2[0][0]']               \n",
      "                                                                                                  \n",
      " conv2d_3 (Conv2D)              (None, 64, 16, 8)    36928       ['activation_5[0][0]']           \n",
      "                                                                                                  \n",
      " add_1 (Add)                    (None, 64, 16, 8)    0           ['add[0][0]',                    \n",
      "                                                                  'conv2d_3[0][0]']               \n",
      "                                                                                                  \n",
      " activation_6 (Activation)      (None, 64, 16, 8)    0           ['add_1[0][0]']                  \n",
      "                                                                                                  \n",
      " conv2d_4 (Conv2D)              (None, 64, 16, 8)    36928       ['activation_6[0][0]']           \n",
      "                                                                                                  \n",
      " activation_7 (Activation)      (None, 64, 16, 8)    0           ['conv2d_4[0][0]']               \n",
      "                                                                                                  \n",
      " conv2d_5 (Conv2D)              (None, 64, 16, 8)    36928       ['activation_7[0][0]']           \n",
      "                                                                                                  \n",
      " add_2 (Add)                    (None, 64, 16, 8)    0           ['add_1[0][0]',                  \n",
      "                                                                  'conv2d_5[0][0]']               \n",
      "                                                                                                  \n",
      " activation_8 (Activation)      (None, 64, 16, 8)    0           ['add_2[0][0]']                  \n",
      "                                                                                                  \n",
      " conv2d_6 (Conv2D)              (None, 64, 16, 8)    36928       ['activation_8[0][0]']           \n",
      "                                                                                                  \n",
      " input_2 (InputLayer)           [(None, 2, 4, 16, 8  0           []                               \n",
      "                                )]                                                                \n",
      "                                                                                                  \n",
      " activation_9 (Activation)      (None, 64, 16, 8)    0           ['conv2d_6[0][0]']               \n",
      "                                                                                                  \n",
      " conv3d_3 (Conv3D)              (None, 8, 1, 16, 8)  72          ['input_2[0][0]']                \n",
      "                                                                                                  \n",
      " conv2d_7 (Conv2D)              (None, 64, 16, 8)    36928       ['activation_9[0][0]']           \n",
      "                                                                                                  \n",
      " activation_10 (Activation)     (None, 8, 1, 16, 8)  0           ['conv3d_3[0][0]']               \n",
      "                                                                                                  \n",
      " add_3 (Add)                    (None, 64, 16, 8)    0           ['add_2[0][0]',                  \n",
      "                                                                  'conv2d_7[0][0]']               \n",
      "                                                                                                  \n",
      " reshape_1 (Reshape)            (None, 8, 16, 8)     0           ['activation_10[0][0]']          \n",
      "                                                                                                  \n",
      " recalibration (Recalibration)  (None, 2, 16, 8)     16384       ['add_3[0][0]']                  \n",
      "                                                                                                  \n",
      " recalibration_t (Recalibration  (None, 2, 16, 8)    16          ['reshape_1[0][0]']              \n",
      " _T)                                                                                              \n",
      "                                                                                                  \n",
      " i_layer (iLayer)               (None, 2, 16, 8)     256         ['recalibration[0][0]']          \n",
      "                                                                                                  \n",
      " i_layer_1 (iLayer)             (None, 2, 16, 8)     256         ['recalibration_t[0][0]']        \n",
      "                                                                                                  \n",
      " add_4 (Add)                    (None, 2, 16, 8)     0           ['i_layer[0][0]',                \n",
      "                                                                  'i_layer_1[0][0]']              \n",
      "                                                                                                  \n",
      " activation_11 (Activation)     (None, 2, 16, 8)     0           ['add_4[0][0]']                  \n",
      "                                                                                                  \n",
      "==================================================================================================\n",
      "Total params: 540,696\n",
      "Trainable params: 540,696\n",
      "Non-trainable params: 0\n",
      "__________________________________________________________________________________________________\n",
      "You must install pydot (`pip install pydot`) and install graphviz (see instructions at https://graphviz.gitlab.io/download/) for plot_model to work.\n"
     ]
    },
    {
     "name": "stderr",
     "output_type": "stream",
     "text": [
      "/home/matheus/miniconda3/envs/st3dnet/lib/python3.9/site-packages/keras/optimizers/legacy/adam.py:117: UserWarning: The `lr` argument is deprecated, use `learning_rate` instead.\n",
      "  super().__init__(name, **kwargs)\n"
     ]
    }
   ],
   "source": [
    "c_conf = (len_closeness, nb_flow, map_height,\n",
    "              map_width) if len_closeness > 0 else None\n",
    "t_conf = (len_trend, nb_flow, map_height,\n",
    "          map_width) if len_trend > 0 else None\n",
    "model = ST3DNet(c_conf=c_conf, t_conf=t_conf, external_dim=external_dim, nb_residual_unit=nb_residual_unit)\n",
    "\n",
    "adam = Adam(lr=lr)\n",
    "model.compile(loss='mse', optimizer=adam, metrics=[rmse, mae])\n",
    "model.summary()\n",
    "plot_model(model,show_shapes=True)"
   ]
  },
  {
   "cell_type": "markdown",
   "metadata": {},
   "source": [
    "### Loading Model"
   ]
  },
  {
   "cell_type": "code",
   "execution_count": 8,
   "metadata": {},
   "outputs": [],
   "source": [
    "hyperparams_name = 'c{}.p{}.t{}.resunit{}.lr{}'.format(\n",
    "        len_closeness, len_period, len_trend, nb_residual_unit, lr)\n",
    "fname_param = 'crime_{}.best.h5'.format(hyperparams_name)\n",
    "\n",
    "model.load_weights(fname_param)"
   ]
  },
  {
   "cell_type": "markdown",
   "metadata": {},
   "source": [
    "### Evaluating Model"
   ]
  },
  {
   "cell_type": "code",
   "execution_count": 9,
   "metadata": {},
   "outputs": [
    {
     "name": "stderr",
     "output_type": "stream",
     "text": [
      "2024-04-01 19:20:34.041411: E tensorflow/core/grappler/optimizers/meta_optimizer.cc:954] remapper failed: INVALID_ARGUMENT: Mutation::Apply error: fanout 'model/activation_6/Relu' exist for missing node 'model/add/add'.\n",
      "2024-04-01 19:20:34.062555: E tensorflow/core/grappler/optimizers/meta_optimizer.cc:954] remapper failed: INVALID_ARGUMENT: Mutation::Apply error: fanout 'model/activation_6/Relu' exist for missing node 'model/add/add'.\n"
     ]
    },
    {
     "name": "stdout",
     "output_type": "stream",
     "text": [
      "49/49 [==============================] - 57s 1s/step - loss: 1.1764 - rmse: 1.0849 - mae: 0.5510\n",
      "Train score:\n",
      " 1.176355  RMSE (real): 1.363854 MAE (real): 0.692650 RMSE: 1.084939 MAE: 0.551000\n",
      "1/1 [==============================] - 0s 397ms/step - loss: 1.1837 - rmse: 1.0880 - mae: 0.5491\n",
      "Test score:\n",
      " 1.183739  RMSE (real): 1.367699 MAE (real): 0.690268 RMSE: 1.087998 MAE: 0.549105\n"
     ]
    }
   ],
   "source": [
    "score = model.evaluate(X_train, Y_train, batch_size=Y_train.shape[0] // 48, verbose=1)\n",
    "\n",
    "print('Train score:\\n %.6f  RMSE (real): %.6f MAE (real): %.6f RMSE: %.6f MAE: %.6f' %\n",
    "       (score[0], score[1] * m_factor, score[2] * m_factor,score[1], score[2]))\n",
    "\n",
    "score = model.evaluate(X_test, Y_test, batch_size=Y_test.shape[0], verbose=1)\n",
    "\n",
    "print('Test score:\\n %.6f  RMSE (real): %.6f MAE (real): %.6f RMSE: %.6f MAE: %.6f' %\n",
    "       (score[0], score[1] * m_factor, score[2] * m_factor,score[1], score[2]))\n"
   ]
  },
  {
   "cell_type": "code",
   "execution_count": 10,
   "metadata": {},
   "outputs": [
    {
     "name": "stdout",
     "output_type": "stream",
     "text": [
      "1/8 [==>...........................] - ETA: 1s"
     ]
    },
    {
     "name": "stderr",
     "output_type": "stream",
     "text": [
      "2024-04-01 19:22:29.287781: E tensorflow/core/grappler/optimizers/meta_optimizer.cc:954] remapper failed: INVALID_ARGUMENT: Mutation::Apply error: fanout 'model/activation_6/Relu' exist for missing node 'model/add/add'.\n",
      "2024-04-01 19:22:29.303867: E tensorflow/core/grappler/optimizers/meta_optimizer.cc:954] remapper failed: INVALID_ARGUMENT: Mutation::Apply error: fanout 'model/activation_6/Relu' exist for missing node 'model/add/add'.\n"
     ]
    },
    {
     "name": "stdout",
     "output_type": "stream",
     "text": [
      "8/8 [==============================] - 1s 73ms/step\n"
     ]
    }
   ],
   "source": [
    "result=model.predict(X_test)"
   ]
  },
  {
   "cell_type": "code",
   "execution_count": 11,
   "metadata": {},
   "outputs": [
    {
     "name": "stdout",
     "output_type": "stream",
     "text": [
      "2\n"
     ]
    }
   ],
   "source": [
    "print(len(X_test))"
   ]
  },
  {
   "cell_type": "code",
   "execution_count": 12,
   "metadata": {},
   "outputs": [
    {
     "name": "stdout",
     "output_type": "stream",
     "text": [
      "Closeness component:  (240, 2, 6, 16, 8)\n",
      "Trend Component:  (240, 2, 4, 16, 8)\n"
     ]
    }
   ],
   "source": [
    "print(\"Closeness component: \", X_test[0].shape)\n",
    "print(\"Trend Component: \", X_test[1].shape)"
   ]
  },
  {
   "cell_type": "code",
   "execution_count": 13,
   "metadata": {},
   "outputs": [
    {
     "name": "stdout",
     "output_type": "stream",
     "text": [
      "Closeness component:  (41976, 2, 6, 16, 8)\n",
      "Trend Component:  (41976, 2, 4, 16, 8)\n"
     ]
    }
   ],
   "source": [
    "print(\"Closeness component: \", X_train[0].shape)\n",
    "print(\"Trend Component: \", X_train[1].shape)"
   ]
  },
  {
   "cell_type": "code",
   "execution_count": 14,
   "metadata": {},
   "outputs": [
    {
     "name": "stdout",
     "output_type": "stream",
     "text": [
      "b'2018113001'\n",
      "b'2023100524'\n"
     ]
    }
   ],
   "source": [
    "print(timestamp_train[0])\n",
    "print(timestamp_train[-1])"
   ]
  },
  {
   "cell_type": "code",
   "execution_count": 19,
   "metadata": {},
   "outputs": [
    {
     "name": "stdout",
     "output_type": "stream",
     "text": [
      "b'2018113001'\n",
      "b'2018113002'\n",
      "b'2018113003'\n",
      "b'2018113004'\n",
      "b'2018113005'\n",
      "b'2018113006'\n",
      "b'2018113007'\n",
      "b'2018113008'\n",
      "b'2018113009'\n",
      "b'2018113010'\n",
      "b'2018113011'\n",
      "b'2018113012'\n",
      "b'2018113013'\n",
      "b'2018113014'\n",
      "b'2018113015'\n",
      "b'2018113016'\n",
      "b'2018113017'\n",
      "b'2018113018'\n",
      "b'2018113019'\n",
      "b'2018113020'\n",
      "b'2018113021'\n",
      "b'2018113022'\n",
      "b'2018113023'\n",
      "b'2018113024'\n"
     ]
    }
   ],
   "source": [
    "for i in range(0,24):\n",
    "    print(timestamp_train[i])"
   ]
  },
  {
   "cell_type": "code",
   "execution_count": 18,
   "metadata": {},
   "outputs": [
    {
     "data": {
      "image/png": "[encoded data removed]",
      "text/plain": [
       "<Figure size 1200x600 with 2 Axes>"
      ]
     },
     "metadata": {},
     "output_type": "display_data"
    },
    {
     "data": {
      "image/png": "[encoded data removed]",
      "text/plain": [
       "<Figure size 1200x2000 with 10 Axes>"
      ]
     },
     "metadata": {},
     "output_type": "display_data"
    }
   ],
   "source": [
    "import matplotlib.pyplot as plt\n",
    "fig, axes = plt.subplots(1, 2, figsize=(12, 6))\n",
    "i=0\n",
    "# Plot the first heatmap\n",
    "num_plots = 5\n",
    "fig, axes = plt.subplots(num_plots, 2, figsize=(12, num_plots*4))\n",
    "\n",
    "for i in range(num_plots):\n",
    "    # Plot the first heatmap (Prediction)\n",
    "    prediction = result[i][0] + result[i][1]\n",
    "    axes[i, 0].imshow(prediction, cmap='viridis', interpolation='nearest')\n",
    "    axes[i, 0].set_title('Prediction')\n",
    "    axes[i, 0].set_xlabel('X-axis')\n",
    "    axes[i, 0].set_ylabel('Y-axis')\n",
    "    axes[i, 0].set_xticks([])  # Hide x-axis ticks\n",
    "    axes[i, 0].set_yticks([])  # Hide y-axis ticks\n",
    "\n",
    "    # Plot the second heatmap (Truth)\n",
    "    truth = Y_test[i][0] + Y_test[i][1]\n",
    "    axes[i, 1].imshow(truth, cmap='viridis', interpolation='nearest')\n",
    "    axes[i, 1].set_title('Truth')\n",
    "    axes[i, 1].set_xlabel('X-axis')\n",
    "    axes[i, 1].set_ylabel('Y-axis')\n",
    "    axes[i, 1].set_xticks([])  # Hide x-axis ticks\n",
    "    axes[i, 1].set_yticks([])  # Hide y-axis ticks\n",
    "\n",
    "# Ajustar layout para prevenir corte dos rótulos do eixo\n",
    "plt.tight_layout()\n",
    "\n",
    "# Exibir os gráficos\n",
    "plt.show()"
   ]
  }
 ],
 "metadata": {
  "kernelspec": {
   "display_name": "st3dnet",
   "language": "python",
   "name": "python3"
  },
  "language_info": {
   "codemirror_mode": {
    "name": "ipython",
    "version": 3
   },
   "file_extension": ".py",
   "mimetype": "text/x-python",
   "name": "python",
   "nbconvert_exporter": "python",
   "pygments_lexer": "ipython3",
   "version": "3.8.10"
  }
 },
 "nbformat": 4,
 "nbformat_minor": 2
}
