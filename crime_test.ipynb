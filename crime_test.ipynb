{
 "cells": [
  {
   "cell_type": "markdown",
   "metadata": {},
   "source": [
    "### Imports"
   ]
  },
  {
   "cell_type": "code",
   "execution_count": 6,
   "metadata": {},
   "outputs": [
    {
     "name": "stderr",
     "output_type": "stream",
     "text": [
      "/home/matheus/miniconda3/envs/st3dnet/lib/python3.9/site-packages/tensorflow/python/client/session.py:1769: UserWarning: An interactive session is already active. This can cause out-of-memory errors in some cases. You must explicitly call `InteractiveSession.close()` to release resources held by the other session(s).\n",
      "  warnings.warn('An interactive session is already active. This can '\n"
     ]
    }
   ],
   "source": [
    "from ST3DNet import *\n",
    "import pickle\n",
    "from utils import *\n",
    "import os\n",
    "import math\n",
    "from keras.utils import plot_model\n",
    "from keras.optimizers import Adam\n",
    "from tensorflow.compat.v1 import ConfigProto\n",
    "from tensorflow.compat.v1 import InteractiveSession\n",
    "from keras.callbacks import EarlyStopping, ModelCheckpoint\n",
    "\n",
    "config = ConfigProto()\n",
    "config.gpu_options.allow_growth = True\n",
    "session = InteractiveSession(config=config)"
   ]
  },
  {
   "cell_type": "markdown",
   "metadata": {},
   "source": [
    "### Training Info"
   ]
  },
  {
   "cell_type": "code",
   "execution_count": 2,
   "metadata": {},
   "outputs": [],
   "source": [
    "nb_epoch = 1500  # number of epoch at training stage\n",
    "nb_epoch_cont = 20  # number of epoch at training (cont) stage\n",
    "batch_size = 32  # batch size\n",
    "T = 24  # number of time intervals in one day\n",
    "lr = 0.00002  # learning rate\n",
    "len_closeness = 6  # length of closeness dependent sequence\n",
    "len_period = 0  # length of period dependent sequence\n",
    "len_trend = 4  # length of trend dependent sequence\n",
    "nb_residual_unit = 4   # number of residual units\n",
    "nb_flow = 2  # there are two types of flows: new-flow and end-flow\n",
    "days_test = 10  # divide data into two subsets: Train & Test, of which the test set is the last 10 days\n",
    "len_test = T * days_test\n",
    "map_height, map_width = 16, 8  # grid size\n",
    "nb_area = 81\n",
    "m_factor = math.sqrt(1. * map_height * map_width / nb_area)\n"
   ]
  },
  {
   "cell_type": "markdown",
   "metadata": {},
   "source": [
    "### Load Data"
   ]
  },
  {
   "cell_type": "code",
   "execution_count": 4,
   "metadata": {},
   "outputs": [],
   "source": [
    "filename = os.path.join(\"data\", 'crime_c%d_p%d_t%d_noext'%(len_closeness, len_period, len_trend))\n",
    "f = open(filename, 'rb')\n",
    "X_train = pickle.load(f)\n",
    "Y_train = pickle.load(f)\n",
    "X_test = pickle.load(f)\n",
    "Y_test = pickle.load(f)\n",
    "mmn = pickle.load(f)\n",
    "external_dim = pickle.load(f)\n",
    "timestamp_train = pickle.load(f)\n",
    "timestamp_test = pickle.load(f)\n",
    "\n",
    "\n",
    "Y_train = mmn.inverse_transform(Y_train)  # X is MaxMinNormalized, Y is real value\n",
    "Y_test = mmn.inverse_transform(Y_test)"
   ]
  },
  {
   "cell_type": "markdown",
   "metadata": {},
   "source": [
    "### Model Setup"
   ]
  },
  {
   "cell_type": "code",
   "execution_count": 8,
   "metadata": {},
   "outputs": [
    {
     "name": "stdout",
     "output_type": "stream",
     "text": [
      "external_dim: None\n",
      "Model: \"model_2\"\n",
      "__________________________________________________________________________________________________\n",
      " Layer (type)                   Output Shape         Param #     Connected to                     \n",
      "==================================================================================================\n",
      " input_5 (InputLayer)           [(None, 2, 6, 16, 8  0           []                               \n",
      "                                )]                                                                \n",
      "                                                                                                  \n",
      " conv3d_8 (Conv3D)              (None, 64, 6, 16, 8  6976        ['input_5[0][0]']                \n",
      "                                )                                                                 \n",
      "                                                                                                  \n",
      " activation_24 (Activation)     (None, 64, 6, 16, 8  0           ['conv3d_8[0][0]']               \n",
      "                                )                                                                 \n",
      "                                                                                                  \n",
      " conv3d_9 (Conv3D)              (None, 64, 2, 16, 8  110656      ['activation_24[0][0]']          \n",
      "                                )                                                                 \n",
      "                                                                                                  \n",
      " activation_25 (Activation)     (None, 64, 2, 16, 8  0           ['conv3d_9[0][0]']               \n",
      "                                )                                                                 \n",
      "                                                                                                  \n",
      " conv3d_10 (Conv3D)             (None, 64, 1, 16, 8  110656      ['activation_25[0][0]']          \n",
      "                                )                                                                 \n",
      "                                                                                                  \n",
      " reshape_4 (Reshape)            (None, 64, 16, 8)    0           ['conv3d_10[0][0]']              \n",
      "                                                                                                  \n",
      " activation_26 (Activation)     (None, 64, 16, 8)    0           ['reshape_4[0][0]']              \n",
      "                                                                                                  \n",
      " conv2d_16 (Conv2D)             (None, 64, 16, 8)    36928       ['activation_26[0][0]']          \n",
      "                                                                                                  \n",
      " activation_27 (Activation)     (None, 64, 16, 8)    0           ['conv2d_16[0][0]']              \n",
      "                                                                                                  \n",
      " conv2d_17 (Conv2D)             (None, 64, 16, 8)    36928       ['activation_27[0][0]']          \n",
      "                                                                                                  \n",
      " add_10 (Add)                   (None, 64, 16, 8)    0           ['reshape_4[0][0]',              \n",
      "                                                                  'conv2d_17[0][0]']              \n",
      "                                                                                                  \n",
      " activation_28 (Activation)     (None, 64, 16, 8)    0           ['add_10[0][0]']                 \n",
      "                                                                                                  \n",
      " conv2d_18 (Conv2D)             (None, 64, 16, 8)    36928       ['activation_28[0][0]']          \n",
      "                                                                                                  \n",
      " activation_29 (Activation)     (None, 64, 16, 8)    0           ['conv2d_18[0][0]']              \n",
      "                                                                                                  \n",
      " conv2d_19 (Conv2D)             (None, 64, 16, 8)    36928       ['activation_29[0][0]']          \n",
      "                                                                                                  \n",
      " add_11 (Add)                   (None, 64, 16, 8)    0           ['add_10[0][0]',                 \n",
      "                                                                  'conv2d_19[0][0]']              \n",
      "                                                                                                  \n",
      " activation_30 (Activation)     (None, 64, 16, 8)    0           ['add_11[0][0]']                 \n",
      "                                                                                                  \n",
      " conv2d_20 (Conv2D)             (None, 64, 16, 8)    36928       ['activation_30[0][0]']          \n",
      "                                                                                                  \n",
      " activation_31 (Activation)     (None, 64, 16, 8)    0           ['conv2d_20[0][0]']              \n",
      "                                                                                                  \n",
      " conv2d_21 (Conv2D)             (None, 64, 16, 8)    36928       ['activation_31[0][0]']          \n",
      "                                                                                                  \n",
      " add_12 (Add)                   (None, 64, 16, 8)    0           ['add_11[0][0]',                 \n",
      "                                                                  'conv2d_21[0][0]']              \n",
      "                                                                                                  \n",
      " activation_32 (Activation)     (None, 64, 16, 8)    0           ['add_12[0][0]']                 \n",
      "                                                                                                  \n",
      " conv2d_22 (Conv2D)             (None, 64, 16, 8)    36928       ['activation_32[0][0]']          \n",
      "                                                                                                  \n",
      " input_6 (InputLayer)           [(None, 2, 4, 16, 8  0           []                               \n",
      "                                )]                                                                \n",
      "                                                                                                  \n",
      " activation_33 (Activation)     (None, 64, 16, 8)    0           ['conv2d_22[0][0]']              \n",
      "                                                                                                  \n",
      " conv3d_11 (Conv3D)             (None, 8, 1, 16, 8)  72          ['input_6[0][0]']                \n",
      "                                                                                                  \n",
      " conv2d_23 (Conv2D)             (None, 64, 16, 8)    36928       ['activation_33[0][0]']          \n",
      "                                                                                                  \n",
      " activation_34 (Activation)     (None, 8, 1, 16, 8)  0           ['conv3d_11[0][0]']              \n",
      "                                                                                                  \n",
      " add_13 (Add)                   (None, 64, 16, 8)    0           ['add_12[0][0]',                 \n",
      "                                                                  'conv2d_23[0][0]']              \n",
      "                                                                                                  \n",
      " reshape_5 (Reshape)            (None, 8, 16, 8)     0           ['activation_34[0][0]']          \n",
      "                                                                                                  \n",
      " recalibration_2 (Recalibration  (None, 2, 16, 8)    16384       ['add_13[0][0]']                 \n",
      " )                                                                                                \n",
      "                                                                                                  \n",
      " recalibration_t_2 (Recalibrati  (None, 2, 16, 8)    16          ['reshape_5[0][0]']              \n",
      " on_T)                                                                                            \n",
      "                                                                                                  \n",
      " i_layer_4 (iLayer)             (None, 2, 16, 8)     256         ['recalibration_2[0][0]']        \n",
      "                                                                                                  \n",
      " i_layer_5 (iLayer)             (None, 2, 16, 8)     256         ['recalibration_t_2[0][0]']      \n",
      "                                                                                                  \n",
      " add_14 (Add)                   (None, 2, 16, 8)     0           ['i_layer_4[0][0]',              \n",
      "                                                                  'i_layer_5[0][0]']              \n",
      "                                                                                                  \n",
      " activation_35 (Activation)     (None, 2, 16, 8)     0           ['add_14[0][0]']                 \n",
      "                                                                                                  \n",
      "==================================================================================================\n",
      "Total params: 540,696\n",
      "Trainable params: 540,696\n",
      "Non-trainable params: 0\n",
      "__________________________________________________________________________________________________\n",
      "You must install pydot (`pip install pydot`) and install graphviz (see instructions at https://graphviz.gitlab.io/download/) for plot_model to work.\n"
     ]
    }
   ],
   "source": [
    "c_conf = (len_closeness, nb_flow, map_height,\n",
    "              map_width) if len_closeness > 0 else None\n",
    "t_conf = (len_trend, nb_flow, map_height,\n",
    "          map_width) if len_trend > 0 else None\n",
    "model = ST3DNet(c_conf=c_conf, t_conf=t_conf, external_dim=external_dim, nb_residual_unit=nb_residual_unit)\n",
    "\n",
    "adam = Adam(lr=lr)\n",
    "model.compile(loss='mse', optimizer=adam, metrics=[rmse, mae])\n",
    "model.summary()\n",
    "plot_model(model,show_shapes=True)"
   ]
  },
  {
   "cell_type": "markdown",
   "metadata": {},
   "source": [
    "### Loading Model"
   ]
  },
  {
   "cell_type": "code",
   "execution_count": 9,
   "metadata": {},
   "outputs": [],
   "source": [
    "hyperparams_name = 'c{}.p{}.t{}.resunit{}.lr{}'.format(\n",
    "        len_closeness, len_period, len_trend, nb_residual_unit, lr)\n",
    "fname_param = 'crime_{}.best.h5'.format(hyperparams_name)\n",
    "\n",
    "model.load_weights(fname_param)"
   ]
  },
  {
   "cell_type": "markdown",
   "metadata": {},
   "source": [
    "### Evaluating Model"
   ]
  },
  {
   "cell_type": "code",
   "execution_count": 11,
   "metadata": {},
   "outputs": [
    {
     "name": "stdout",
     "output_type": "stream",
     "text": [
      "49/49 [==============================] - 57s 1s/step - loss: 1.1764 - rmse: 1.0849 - mae: 0.5510\n",
      "Train score:\n",
      " 1.176355  RMSE (real): 1.363854 MAE (real): 0.692650 RMSE: 1.084939 MAE: 0.551000\n",
      "1/1 [==============================] - 0s 413ms/step - loss: 1.1837 - rmse: 1.0880 - mae: 0.5491\n",
      "Test score:\n",
      " 1.183739  RMSE (real): 1.367699 MAE (real): 0.690268 RMSE: 1.087998 MAE: 0.549105\n"
     ]
    }
   ],
   "source": [
    "score = model.evaluate(X_train, Y_train, batch_size=Y_train.shape[0] // 48, verbose=1)\n",
    "\n",
    "print('Train score:\\n %.6f  RMSE (real): %.6f MAE (real): %.6f RMSE: %.6f MAE: %.6f' %\n",
    "       (score[0], score[1] * m_factor, score[2] * m_factor,score[1], score[2]))\n",
    "\n",
    "score = model.evaluate(X_test, Y_test, batch_size=Y_test.shape[0], verbose=1)\n",
    "\n",
    "print('Test score:\\n %.6f  RMSE (real): %.6f MAE (real): %.6f RMSE: %.6f MAE: %.6f' %\n",
    "       (score[0], score[1] * m_factor, score[2] * m_factor,score[1], score[2]))\n"
   ]
  },
  {
   "cell_type": "code",
   "execution_count": 19,
   "metadata": {},
   "outputs": [
    {
     "name": "stdout",
     "output_type": "stream",
     "text": [
      "8/8 [==============================] - 1s 72ms/step\n"
     ]
    }
   ],
   "source": [
    "result=model.predict(X_test)"
   ]
  },
  {
   "cell_type": "code",
   "execution_count": 32,
   "metadata": {},
   "outputs": [
    {
     "name": "stdout",
     "output_type": "stream",
     "text": [
      "2\n"
     ]
    }
   ],
   "source": [
    "print(len(X_test))"
   ]
  },
  {
   "cell_type": "code",
   "execution_count": 37,
   "metadata": {},
   "outputs": [
    {
     "name": "stdout",
     "output_type": "stream",
     "text": [
      "Closeness component:  (240, 2, 6, 16, 8)\n",
      "Trend Component:  (240, 2, 4, 16, 8)\n"
     ]
    }
   ],
   "source": [
    "print(\"Closeness component: \", X_test[0].shape)\n",
    "print(\"Trend Component: \", X_test[1].shape)"
   ]
  },
  {
   "cell_type": "code",
   "execution_count": 45,
   "metadata": {},
   "outputs": [
    {
     "data": {
      "image/png": "[encoded data removed]",
      "text/plain": [
       "<Figure size 1200x600 with 2 Axes>"
      ]
     },
     "metadata": {},
     "output_type": "display_data"
    }
   ],
   "source": [
    "import matplotlib.pyplot as plt\n",
    "fig, axes = plt.subplots(1, 2, figsize=(12, 6))\n",
    "i=2\n",
    "# Plot the first heatmap\n",
    "prediction = result[i][0] + result[i][1]\n",
    "axes[0].imshow(prediction, cmap='viridis', interpolation='nearest')\n",
    "axes[0].set_title('Predicition')\n",
    "axes[0].set_xlabel('X-axis')\n",
    "axes[0].set_ylabel('Y-axis')\n",
    "axes[0].set_xticks([])  # Hide x-axis ticks\n",
    "axes[0].set_yticks([])  # Hide y-axis ticks\n",
    "\n",
    "# Plot the second heatmap\n",
    "truth = Y_test[i][0] + Y_test[i][1]\n",
    "axes[1].imshow(truth, cmap='viridis', interpolation='nearest')\n",
    "axes[1].set_title('Truth')\n",
    "axes[1].set_xlabel('X-axis')\n",
    "axes[1].set_ylabel('Y-axis')\n",
    "axes[1].set_xticks([])  # Hide x-axis ticks\n",
    "axes[1].set_yticks([])  # Hide y-axis ticks\n",
    "\n",
    "# Adjust layout to prevent clipping of axis labels\n",
    "plt.tight_layout()\n",
    "\n",
    "# Display the plots\n",
    "plt.show()"
   ]
  }
 ],
 "metadata": {
  "kernelspec": {
   "display_name": "st3dnet",
   "language": "python",
   "name": "python3"
  },
  "language_info": {
   "codemirror_mode": {
    "name": "ipython",
    "version": 3
   },
   "file_extension": ".py",
   "mimetype": "text/x-python",
   "name": "python",
   "nbconvert_exporter": "python",
   "pygments_lexer": "ipython3",
   "version": "3.9.18"
  }
 },
 "nbformat": 4,
 "nbformat_minor": 2
}
