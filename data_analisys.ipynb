{
 "cells": [
  {
   "cell_type": "code",
   "execution_count": 1,
   "metadata": {},
   "outputs": [],
   "source": [
    "import os \n",
    "import pickle\n",
    "import h5py"
   ]
  },
  {
   "cell_type": "code",
   "execution_count": 2,
   "metadata": {},
   "outputs": [],
   "source": [
    "nb_epoch = 1500  # number of epoch at training stage\n",
    "nb_epoch_cont = 20  # number of epoch at training (cont) stage\n",
    "batch_size = 32  # batch size\n",
    "T = 24  # number of time intervals in one day\n",
    "lr = 0.00002  # learning rate\n",
    "len_closeness = 6  # length of closeness dependent sequence\n",
    "len_period = 0  # length of peroid dependent sequence\n",
    "len_trend = 4  # length of trend dependent sequence\n",
    "nb_residual_unit = 4   # number of residual units\n",
    "nb_flow = 2  # there are two types of flows: new-flow and end-flow\n",
    "days_test = 10  # divide data into two subsets: Train & Test, of which the test set is the last 10 days\n",
    "len_test = T * days_test\n",
    "map_height, map_width = 16, 8  # grid size\n",
    "nb_area = 81\n",
    "#m_factor = math.sqrt(1. * map_height * map_width / nb_area)"
   ]
  },
  {
   "cell_type": "code",
   "execution_count": 3,
   "metadata": {},
   "outputs": [],
   "source": [
    "def load_stdata(fname):\n",
    "    f = h5py.File(fname, 'r')\n",
    "    data = f['data'][:]\n",
    "    timestamps = f['date'][:]\n",
    "    f.close()\n",
    "    return data, timestamps"
   ]
  },
  {
   "cell_type": "code",
   "execution_count": 4,
   "metadata": {},
   "outputs": [],
   "source": [
    "data, timestamps = load_stdata(os.path.join(\"data\",'NYC14_M16x8_T60_NewEnd.h5'))"
   ]
  },
  {
   "cell_type": "code",
   "execution_count": 5,
   "metadata": {},
   "outputs": [
    {
     "data": {
      "text/plain": [
       "(4392, 2, 16, 8)"
      ]
     },
     "execution_count": 5,
     "metadata": {},
     "output_type": "execute_result"
    }
   ],
   "source": [
    "data.shape"
   ]
  },
  {
   "cell_type": "code",
   "execution_count": 15,
   "metadata": {},
   "outputs": [
    {
     "name": "stdout",
     "output_type": "stream",
     "text": [
      "b'2014040124'\n"
     ]
    }
   ],
   "source": [
    "print(timestamps[23])"
   ]
  },
  {
   "cell_type": "code",
   "execution_count": 7,
   "metadata": {},
   "outputs": [
    {
     "ename": "ModuleNotFoundError",
     "evalue": "No module named 'pandas'",
     "output_type": "error",
     "traceback": [
      "\u001b[0;31m---------------------------------------------------------------------------\u001b[0m",
      "\u001b[0;31mModuleNotFoundError\u001b[0m                       Traceback (most recent call last)",
      "Cell \u001b[0;32mIn[7], line 2\u001b[0m\n\u001b[1;32m      1\u001b[0m \u001b[38;5;28;01mfrom\u001b[39;00m \u001b[38;5;21;01mdatetime\u001b[39;00m \u001b[38;5;28;01mimport\u001b[39;00m datetime\n\u001b[0;32m----> 2\u001b[0m \u001b[38;5;28;01mimport\u001b[39;00m \u001b[38;5;21;01mpandas\u001b[39;00m \u001b[38;5;28;01mas\u001b[39;00m \u001b[38;5;21;01mpd\u001b[39;00m\n\u001b[1;32m      4\u001b[0m \u001b[38;5;28;01mdef\u001b[39;00m \u001b[38;5;21mtimestamp2string\u001b[39m(timestamps, T\u001b[38;5;241m=\u001b[39m\u001b[38;5;241m48\u001b[39m):\n\u001b[1;32m      5\u001b[0m \u001b[38;5;250m    \u001b[39m\u001b[38;5;124;03m'''\u001b[39;00m\n\u001b[1;32m      6\u001b[0m \u001b[38;5;124;03m    timestamps: list of pandas.Timestamp objects\u001b[39;00m\n\u001b[1;32m      7\u001b[0m \u001b[38;5;124;03m    return: list of strings formatted like ['2017080912', '2017080913']\u001b[39;00m\n\u001b[1;32m      8\u001b[0m \u001b[38;5;124;03m    '''\u001b[39;00m\n",
      "\u001b[0;31mModuleNotFoundError\u001b[0m: No module named 'pandas'"
     ]
    }
   ],
   "source": [
    "from datetime import datetime\n",
    "import pandas as pd\n",
    "\n",
    "def timestamp2string(timestamps, T=48):\n",
    "    '''\n",
    "    timestamps: list of pandas.Timestamp objects\n",
    "    return: list of strings formatted like ['2017080912', '2017080913']\n",
    "    '''\n",
    "    strings = []\n",
    "    time_per_slot = 24.0 / T\n",
    "    num_per_T = T // 24\n",
    "\n",
    "    for ts in timestamps:\n",
    "        year, month, day = ts.year, ts.month, ts.day\n",
    "        slot = int((ts.hour * 60 + ts.minute) / (60 * time_per_slot)) + 1\n",
    "        strings.append(f'{year:04d}{month:02d}{day:02d}{slot:02d}')\n",
    "\n",
    "    return strings"
   ]
  },
  {
   "cell_type": "code",
   "execution_count": null,
   "metadata": {},
   "outputs": [
    {
     "name": "stdout",
     "output_type": "stream",
     "text": [
      "['2017080901', '2017080913']\n"
     ]
    }
   ],
   "source": [
    "# Exemplo de uso:\n",
    "timestamps = [pd.Timestamp('2017-08-09 00:28:00'), pd.Timestamp('2017-08-09 06:00:00')]\n",
    "strings_resultantes = timestamp2string(timestamps)\n",
    "print(strings_resultantes)"
   ]
  },
  {
   "cell_type": "code",
   "execution_count": 17,
   "metadata": {},
   "outputs": [],
   "source": [
    "filename = 'data/crime_c6_p0_t4_T3_noext'\n",
    "f = open(filename, 'rb')\n",
    "X_train = pickle.load(f)\n",
    "Y_train = pickle.load(f)\n",
    "X_test = pickle.load(f)\n",
    "Y_test = pickle.load(f)\n",
    "mmn = pickle.load(f)\n",
    "external_dim = pickle.load(f)\n",
    "timestamp_train = pickle.load(f)\n",
    "timestamp_test = pickle.load(f)"
   ]
  },
  {
   "cell_type": "code",
   "execution_count": 18,
   "metadata": {},
   "outputs": [
    {
     "data": {
      "text/plain": [
       "(0, 0)"
      ]
     },
     "execution_count": 18,
     "metadata": {},
     "output_type": "execute_result"
    }
   ],
   "source": [
    "X_train[0].shape"
   ]
  },
  {
   "cell_type": "code",
   "execution_count": 12,
   "metadata": {},
   "outputs": [
    {
     "data": {
      "text/plain": [
       "(0, 0)"
      ]
     },
     "execution_count": 12,
     "metadata": {},
     "output_type": "execute_result"
    }
   ],
   "source": [
    "X_train[1].shape"
   ]
  },
  {
   "cell_type": "code",
   "execution_count": 13,
   "metadata": {},
   "outputs": [
    {
     "data": {
      "text/plain": [
       "(0, 0)"
      ]
     },
     "execution_count": 13,
     "metadata": {},
     "output_type": "execute_result"
    }
   ],
   "source": [
    "Y_train.shape"
   ]
  }
 ],
 "metadata": {
  "kernelspec": {
   "display_name": "Python 3",
   "language": "python",
   "name": "python3"
  },
  "language_info": {
   "codemirror_mode": {
    "name": "ipython",
    "version": 3
   },
   "file_extension": ".py",
   "mimetype": "text/x-python",
   "name": "python",
   "nbconvert_exporter": "python",
   "pygments_lexer": "ipython3",
   "version": "3.9.18"
  }
 },
 "nbformat": 4,
 "nbformat_minor": 2
}
